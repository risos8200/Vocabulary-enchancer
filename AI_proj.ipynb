{
 "cells": [
  {
   "cell_type": "code",
   "execution_count": 1,
   "metadata": {},
   "outputs": [],
   "source": [
    "import speech_recognition as sr\n",
    "from gtts import gTTS \n",
    "import os  \n",
    "from playsound import playsound"
   ]
  },
  {
   "cell_type": "code",
   "execution_count": 2,
   "metadata": {},
   "outputs": [],
   "source": [
    "r=sr.Recognizer()"
   ]
  },
  {
   "cell_type": "code",
   "execution_count": 3,
   "metadata": {},
   "outputs": [],
   "source": [
    "def text_to_speech(str):\n",
    "    language = 'en'\n",
    "    myobj = gTTS(text=str, lang=language, slow=False) \n",
    "    myobj.save(\"welcome.mp3\") \n",
    "    playsound('/Users/Risos8200/Desktop/Project_AI/welcome.mp3')"
   ]
  },
  {
   "cell_type": "code",
   "execution_count": 4,
   "metadata": {
    "scrolled": true
   },
   "outputs": [],
   "source": [
    "def speech_to_text():\n",
    "    with sr.Microphone() as source:\n",
    "        print(\"Say something\")\n",
    "        text_to_speech(\"Say something\")\n",
    "        audio=r.listen(source)\n",
    "    try:\n",
    "        a=r.recognize_google(audio);\n",
    "        print(a);\n",
    "        return(a);\n",
    "    except:\n",
    "        pass;"
   ]
  },
  {
   "cell_type": "code",
   "execution_count": 5,
   "metadata": {},
   "outputs": [],
   "source": [
    "def word_mean(inp):\n",
    "    from nltk.corpus import wordnet\n",
    "    syns = wordnet.synsets(inp)\n",
    "    inp_Def=syns[0].definition();\n",
    "    #text_to_speech(inp_Def)\n",
    "    return(inp_Def)\n",
    "def stopwords(arr):\n",
    "    from nltk.corpus import stopwords \n",
    "    from nltk.tokenize import word_tokenize \n",
    "    stop_words = set(stopwords.words('english')) \n",
    "    new_Arr = [w for w in arr if not w in stop_words] \n",
    "    new_Arr= [] \n",
    "    for w in arr: \n",
    "        if w not in stop_words: \n",
    "            new_Arr.append(w) \n",
    "    return(new_Arr)\n",
    "str1=\"Dictionary.csv\"\n",
    "str2=\"Dictionary1.csv\""
   ]
  },
  {
   "cell_type": "code",
   "execution_count": 6,
   "metadata": {},
   "outputs": [],
   "source": [
    "import csv\n",
    "def what_to_do(word_C):\n",
    "    in_file = open(\"Dictionary.csv\", \"r\")\n",
    "    reader = csv.reader(in_file)\n",
    "    for row in reader:\n",
    "        if word_C in row[0]:\n",
    "            print(\"yes\")\n",
    "            inc_Count(word_C)\n",
    "            break\n",
    "        else:\n",
    "            print(\"no\")\n",
    "            add_to_dic(word_C)\n",
    "            break\n",
    "    in_file.close()\n",
    "#what_to_do(\"joke\") error here"
   ]
  },
  {
   "cell_type": "code",
   "execution_count": 7,
   "metadata": {},
   "outputs": [],
   "source": [
    "def levl():\n",
    "    text_to_speech(\"what the level of the word\")\n",
    "    lev=speech_to_text\n",
    "    return(lev)"
   ]
  },
  {
   "cell_type": "code",
   "execution_count": 8,
   "metadata": {},
   "outputs": [],
   "source": [
    "def add_to_dic(word_C):\n",
    "    dict=[word_C,word_mean(word_C),0]#lev\n",
    "    print(dict)\n",
    "    import csv\n",
    "    with open('dictionary.csv', 'a', newline='') as csvfile:\n",
    "        filewriter = csv.writer(csvfile, delimiter=',',quotechar='|', quoting=csv.QUOTE_MINIMAL)\n",
    "        filewriter.writerow(dict)\n",
    "    csvfile.close()\n",
    "    with open('dictionary1.csv', 'a', newline='') as csvfile1:\n",
    "        filewriter1 = csv.writer(csvfile1, delimiter=',',quotechar='|', quoting=csv.QUOTE_MINIMAL)\n",
    "        filewriter1.writerow(dict)\n",
    "    csvfile1.close()"
   ]
  },
  {
   "cell_type": "code",
   "execution_count": 9,
   "metadata": {},
   "outputs": [],
   "source": [
    "def inc_Count(c_word):\n",
    "    import csv\n",
    "    global str2\n",
    "    global str1\n",
    "    print(\"Data being written to \"+str2)\n",
    "    in_file = open(str1, \"r\")\n",
    "    reader = csv.reader(in_file)\n",
    "    out_file = open(str2, \"w\")\n",
    "    writer = csv.writer(out_file)\n",
    "    for row in reader:\n",
    "        if c_word in row[0]:\n",
    "            row[2] = int(row[2])+1\n",
    "            print(\"Count of \"+row[0]+\" increased to\")\n",
    "            print(row[2])\n",
    "            writer.writerow(row)\n",
    "        else:\n",
    "            writer.writerow(row)\n",
    "    in_file.close()\n",
    "    out_file.close()\n",
    "    temp=str1\n",
    "    str1=str2\n",
    "    str2=temp\n",
    "#inc_Count(\"orange\")"
   ]
  },
  {
   "cell_type": "code",
   "execution_count": 10,
   "metadata": {},
   "outputs": [],
   "source": [
    "def word_day():\n",
    "    import csv\n",
    "    in_file = open(\"Dictionary.csv\", \"r\")\n",
    "    reader = csv.reader(in_file)\n",
    "    least=30\n",
    "    row_no=0\n",
    "    for row in reader:\n",
    "        if(least>int(row[2])):\n",
    "            least=int(row[2])\n",
    "            row_no=row\n",
    "        #elif(least==int(row[2])):\n",
    "         #   if(row_no[3]>row[3]):\n",
    "          #      continue\n",
    "           # else:\n",
    "            #    least=int(row[2])\n",
    "             #   row_no=row\n",
    "    #print(row_no)\n",
    "    text_to_speech(\"The word for today is\"+row_no[0]+\"that means\"+row_no[1])\n",
    "    in_file.close()\n",
    "    in_file = open(\"Dictionary.csv\", \"r\")\n",
    "    reader = csv.reader(in_file)\n",
    "    for row in reader:\n",
    "        if(row_no[0]==row[0]):\n",
    "            inc_Count(row[0]) \n",
    "            break\n",
    "#word_day()"
   ]
  },
  {
   "cell_type": "code",
   "execution_count": 11,
   "metadata": {},
   "outputs": [],
   "source": [
    "def open_Dict():\n",
    "    import tkinter\n",
    "    import csv\n",
    "\n",
    "    root = tkinter.Tk()\n",
    "\n",
    "    # open file\n",
    "    with open(\"dictionary.csv\", newline = \"\") as file:\n",
    "       reader = csv.reader(file)\n",
    "\n",
    "       # r and c tell us where to grid the labels\n",
    "       r = 0\n",
    "       for col in reader:\n",
    "          c = 0\n",
    "          for row in col:\n",
    "             # i've added some styling\n",
    "             label = tkinter.Label(root, width = 20, height = 2, \\\n",
    "                                   text = row, relief = tkinter.RIDGE)\n",
    "             label.grid(row = r, column = c)\n",
    "             c += 1\n",
    "          r += 1\n",
    "\n",
    "    root.mainloop()"
   ]
  },
  {
   "cell_type": "code",
   "execution_count": 12,
   "metadata": {},
   "outputs": [],
   "source": [
    "text_to_speech(\"Hi, Say Word Meaning for Word meaning or else say Word of the Day for word recommendations\");"
   ]
  },
  {
   "cell_type": "code",
   "execution_count": 13,
   "metadata": {},
   "outputs": [
    {
     "name": "stdout",
     "output_type": "stream",
     "text": [
      "Say something\n",
      "word of the day\n",
      "Data being written to Dictionary1.csv\n",
      "Count of orange increased to\n",
      "3\n"
     ]
    }
   ],
   "source": [
    "option=speech_to_text();\n",
    "option=\"word of the day\"\n",
    "print(option)\n",
    "if(option==\"word meaning\"):\n",
    "    text_to_speech(\"What is the word that i can help you with today?\")\n",
    "    c=speech_to_text();\n",
    "    #c=\"apple\"\n",
    "    #if (a.find('meaning') != -1): \n",
    "         #b=a.rfind(' ')\n",
    "         #c=a[b+1:]\n",
    "    print(c)\n",
    "elif(option==\"word of the day\"):\n",
    "    word_day()\n",
    "elif(option==\"open dictionary\"):\n",
    "    open_Dict()\n",
    "else:\n",
    "    print(\"Beg your pardon :p\")"
   ]
  },
  {
   "cell_type": "code",
   "execution_count": 18,
   "metadata": {},
   "outputs": [
    {
     "name": "stdout",
     "output_type": "stream",
     "text": [
      "fruit with red or yellow or green skin and sweet to tart crisp whitish flesh\n",
      "no\n",
      "['Apple', 'fruit with red or yellow or green skin and sweet to tart crisp whitish flesh', 0]\n"
     ]
    }
   ],
   "source": [
    "\n",
    "import re\n",
    "if(' ' in c):\n",
    "    c_Split=re.split(\" \",c)\n",
    "    c_arr=stopwords(c_Split)\n",
    "    for c_each in c_arr:\n",
    "        print(word_mean(c_each))\n",
    "        what_to_do(c_each)\n",
    "else:\n",
    "    print(word_mean(c))\n",
    "    what_to_do(c)"
   ]
  },
  {
   "cell_type": "code",
   "execution_count": null,
   "metadata": {},
   "outputs": [],
   "source": [
    "\n",
    "    import csv\n",
    "    with open(\"dictionary.csv\", \"r\") as f:\n",
    "        csvreader = csv.reader(f, delimiter=\",\")\n",
    "        for row in csvreader:\n",
    "            if c in row[0]:\n",
    "                print(row[0])\n",
    "                count=int(row[2],10)\n",
    "                count+=1\n",
    "                print(row[2])\n",
    "                dict=[c,c_Def,count]\n",
    "                print(dict)\n",
    "                #with open('dictionary.csv', 'a') as csvfile:\n",
    "                 #   filewriter = csv.writer(csvfile, delimiter=',',quotechar='|', quoting=csv.QUOTE_MINIMAL)\n",
    "                  #  filewriter.writerow(dict)\n",
    "                   # print(\"done\")\n",
    "                #break\n",
    "            else:\n",
    "                dict=[c,c_Def,0]\n",
    "                with open('dictionary.csv', 'a') as csvfile:\n",
    "                    filewriter = csv.writer(csvfile, delimiter=',',quotechar='|', quoting=csv.QUOTE_MINIMAL)\n",
    "                    filewriter.writerow(dict)"
   ]
  },
  {
   "cell_type": "code",
   "execution_count": null,
   "metadata": {},
   "outputs": [],
   "source": [
    "import csv\n",
    " \n",
    "with open('dictionary.csv', 'a') as csvfile:\n",
    "    filewriter = csv.writer(csvfile, delimiter=',',quotechar='|', quoting=csv.QUOTE_MINIMAL)\n",
    "    filewriter.writerow([\"apllee\"])\n"
   ]
  },
  {
   "cell_type": "code",
   "execution_count": null,
   "metadata": {},
   "outputs": [],
   "source": [
    "from tkinter import *\n",
    "root = Tk() \n",
    "T = Text(root, height=200, width=300) \n",
    "T.pack() \n",
    "T.insert(END, 'Dictionary\\n')\n",
    "T.insert(END,c)\n",
    "T.insert(END,c_Def)\n",
    "mainloop()"
   ]
  },
  {
   "cell_type": "code",
   "execution_count": null,
   "metadata": {},
   "outputs": [],
   "source": [
    "root.destroy()"
   ]
  },
  {
   "cell_type": "code",
   "execution_count": null,
   "metadata": {},
   "outputs": [],
   "source": [
    "import json\n",
    "with open('data.json', 'a') as fp:\n",
    "        json.dump(dict, fp)"
   ]
  },
  {
   "cell_type": "code",
   "execution_count": null,
   "metadata": {},
   "outputs": [],
   "source": [
    "with open('data.json', 'r') as fp:\n",
    "    data = json.load(fp)"
   ]
  },
  {
   "cell_type": "code",
   "execution_count": null,
   "metadata": {},
   "outputs": [],
   "source": [
    "import json\n",
    "dict=(c,c_Def)\n",
    "with open('data.json', 'r') as fp:\n",
    "    fp[\"Dict\"].append({'b':'2'})"
   ]
  },
  {
   "cell_type": "code",
   "execution_count": 104,
   "metadata": {},
   "outputs": [
    {
     "name": "stdout",
     "output_type": "stream",
     "text": [
      "{'abs': 'any of a class of composite plastics used to make car bodies and cases for computers and other appliances'}\n"
     ]
    }
   ],
   "source": [
    "print(data[3])"
   ]
  },
  {
   "cell_type": "code",
   "execution_count": null,
   "metadata": {},
   "outputs": [],
   "source": [
    "#extra"
   ]
  },
  {
   "cell_type": "code",
   "execution_count": 39,
   "metadata": {
    "scrolled": true
   },
   "outputs": [
    {
     "name": "stdout",
     "output_type": "stream",
     "text": [
      "{'banana': 'Apple', 'apple': 'Apa', 'pear': 'apaak'}\n"
     ]
    }
   ],
   "source": [
    "Dict = {'banana':'Apple', 'apple':'Apa', 'pear':'apaak'}\n",
    "print(Dict)"
   ]
  },
  {
   "cell_type": "code",
   "execution_count": 40,
   "metadata": {},
   "outputs": [],
   "source": [
    "file = open('store_dat.txt','w') \n",
    "file.write(\"This is the write command\") \n",
    "file.write(\"It allows us to write in a particular file\") \n",
    "file.close() "
   ]
  },
  {
   "cell_type": "code",
   "execution_count": 42,
   "metadata": {},
   "outputs": [],
   "source": [
    "file = open('store_dat.txt','a') \n",
    "file.write(\"This will add this line\") \n",
    "file.close() "
   ]
  },
  {
   "cell_type": "code",
   "execution_count": 75,
   "metadata": {},
   "outputs": [],
   "source": [
    "import json\n",
    "\n",
    "dict = {c:c_Def}\n",
    "\n",
    "with open('file.json', 'a') as file:\n",
    "     file.write(json.dumps(dict))"
   ]
  },
  {
   "cell_type": "code",
   "execution_count": 81,
   "metadata": {
    "scrolled": true
   },
   "outputs": [
    {
     "ename": "FileNotFoundError",
     "evalue": "[Errno 2] No such file or directory: 'file'",
     "output_type": "error",
     "traceback": [
      "\u001b[0;31m---------------------------------------------------------------------------\u001b[0m",
      "\u001b[0;31mFileNotFoundError\u001b[0m                         Traceback (most recent call last)",
      "\u001b[0;32m<ipython-input-81-6aa15c80f956>\u001b[0m in \u001b[0;36m<module>\u001b[0;34m\u001b[0m\n\u001b[1;32m      1\u001b[0m \u001b[0;32mimport\u001b[0m \u001b[0mjson\u001b[0m\u001b[0;34m\u001b[0m\u001b[0;34m\u001b[0m\u001b[0m\n\u001b[0;32m----> 2\u001b[0;31m \u001b[0;32mwith\u001b[0m \u001b[0mopen\u001b[0m\u001b[0;34m(\u001b[0m\u001b[0;34m'file'\u001b[0m\u001b[0;34m,\u001b[0m \u001b[0mencoding\u001b[0m\u001b[0;34m=\u001b[0m\u001b[0;34m'utf-8'\u001b[0m\u001b[0;34m)\u001b[0m \u001b[0;32mas\u001b[0m \u001b[0mdata_file\u001b[0m\u001b[0;34m:\u001b[0m\u001b[0;34m\u001b[0m\u001b[0;34m\u001b[0m\u001b[0m\n\u001b[0m\u001b[1;32m      3\u001b[0m    \u001b[0mdata\u001b[0m \u001b[0;34m=\u001b[0m \u001b[0mjson\u001b[0m\u001b[0;34m.\u001b[0m\u001b[0mloads\u001b[0m\u001b[0;34m(\u001b[0m\u001b[0mdata_file\u001b[0m\u001b[0;34m.\u001b[0m\u001b[0mread\u001b[0m\u001b[0;34m(\u001b[0m\u001b[0;34m)\u001b[0m\u001b[0;34m)\u001b[0m\u001b[0;34m\u001b[0m\u001b[0;34m\u001b[0m\u001b[0m\n",
      "\u001b[0;31mFileNotFoundError\u001b[0m: [Errno 2] No such file or directory: 'file'"
     ]
    }
   ],
   "source": [
    "import json\n",
    "with open('file', encoding='utf-8') as data_file:\n",
    "   data = json.loads(data_file.read())    "
   ]
  }
 ],
 "metadata": {
  "kernelspec": {
   "display_name": "Python 3",
   "language": "python",
   "name": "python3"
  },
  "language_info": {
   "codemirror_mode": {
    "name": "ipython",
    "version": 3
   },
   "file_extension": ".py",
   "mimetype": "text/x-python",
   "name": "python",
   "nbconvert_exporter": "python",
   "pygments_lexer": "ipython3",
   "version": "3.6.8"
  }
 },
 "nbformat": 4,
 "nbformat_minor": 2
}
